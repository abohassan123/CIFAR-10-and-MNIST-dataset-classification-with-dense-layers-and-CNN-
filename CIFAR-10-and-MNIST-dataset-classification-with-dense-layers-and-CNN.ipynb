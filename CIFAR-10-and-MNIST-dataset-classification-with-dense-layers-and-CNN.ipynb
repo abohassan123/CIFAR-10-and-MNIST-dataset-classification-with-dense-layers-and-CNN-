{
  "cells": [
    {
      "cell_type": "code",
      "execution_count": 1,
      "metadata": {
        "id": "W36SvIpykMc0"
      },
      "outputs": [],
      "source": [
        "import numpy as np \n",
        "import pandas as pd\n",
        "from sklearn.metrics import accuracy_score\n",
        "import tensorflow as tf\n",
        "import numpy as np\n",
        "from tensorflow import keras\n",
        "from tensorflow.keras.layers import Input, Conv2D, Dense, Flatten, Dropout,BatchNormalization\n",
        "from tensorflow.keras.layers import  MaxPooling2D\n",
        "from tensorflow.keras import optimizers\n",
        "# from sklearn.model_selection import train_test_split\n",
        "from keras import backend as k\n",
        "\n",
        "import matplotlib.pyplot as plt\n",
        "import warnings\n",
        "warnings.filterwarnings('ignore')\n",
        "np.random.seed(42)\n",
        "tf.random.set_seed(42)"
      ]
    },
    {
      "cell_type": "markdown",
      "metadata": {
        "id": "PAn0dxqpEn0Z"
      },
      "source": [
        "## `Case 1`\n"
      ]
    },
    {
      "cell_type": "code",
      "execution_count": 2,
      "metadata": {
        "id": "uHyT5wlkkSSy",
        "colab": {
          "base_uri": "https://localhost:8080/"
        },
        "outputId": "f9509caa-2949-411f-ead8-179f1588f04c"
      },
      "outputs": [
        {
          "output_type": "stream",
          "name": "stdout",
          "text": [
            "Downloading data from https://www.cs.toronto.edu/~kriz/cifar-10-python.tar.gz\n",
            "170500096/170498071 [==============================] - 3s 0us/step\n",
            "170508288/170498071 [==============================] - 3s 0us/step\n"
          ]
        }
      ],
      "source": [
        "# Load in the data\n",
        "cifar10 = tf.keras.datasets.cifar10\n",
        " \n",
        "# Distribute it to train and test set\n",
        "(X_train, y_train), (X_test, y_test) = cifar10.load_data()\n"
      ]
    },
    {
      "cell_type": "code",
      "execution_count": 3,
      "metadata": {
        "colab": {
          "base_uri": "https://localhost:8080/"
        },
        "id": "tCiJQWctkkyQ",
        "outputId": "4ea63e58-02fe-4749-d284-442994ce6724"
      },
      "outputs": [
        {
          "output_type": "execute_result",
          "data": {
            "text/plain": [
              "(50000, 32, 32, 3)"
            ]
          },
          "metadata": {},
          "execution_count": 3
        }
      ],
      "source": [
        "X_train.shape"
      ]
    },
    {
      "cell_type": "code",
      "execution_count": 4,
      "metadata": {
        "colab": {
          "base_uri": "https://localhost:8080/"
        },
        "id": "FBr5Oyajkz36",
        "outputId": "999c5577-ac3c-4db9-e709-5d9fa0ef7442"
      },
      "outputs": [
        {
          "output_type": "execute_result",
          "data": {
            "text/plain": [
              "(10000, 32, 32, 3)"
            ]
          },
          "metadata": {},
          "execution_count": 4
        }
      ],
      "source": [
        "X_test.shape"
      ]
    },
    {
      "cell_type": "code",
      "execution_count": 5,
      "metadata": {
        "colab": {
          "base_uri": "https://localhost:8080/"
        },
        "id": "9aT0OFXrlD-I",
        "outputId": "48427c99-1221-4668-aa47-fd5a3b1ac2cd"
      },
      "outputs": [
        {
          "output_type": "execute_result",
          "data": {
            "text/plain": [
              "(50000, 1)"
            ]
          },
          "metadata": {},
          "execution_count": 5
        }
      ],
      "source": [
        "y_train.shape"
      ]
    },
    {
      "cell_type": "code",
      "execution_count": 6,
      "metadata": {
        "id": "yySok0WwlQCc"
      },
      "outputs": [],
      "source": [
        "\n",
        "# Reduce pixel values\n",
        "# Reduce pixel values\n",
        "X_train = X_train.astype('float32') / 255.\n",
        "X_test = X_test.astype('float32') / 255. \n",
        "# flatten the label values\n",
        "y_train, y_test = y_train.flatten(), y_test.flatten()"
      ]
    },
    {
      "cell_type": "code",
      "execution_count": 7,
      "metadata": {
        "colab": {
          "base_uri": "https://localhost:8080/"
        },
        "id": "NP66mnTmlicx",
        "outputId": "be0110d0-f3ef-477c-f1f8-4767e656fe12"
      },
      "outputs": [
        {
          "output_type": "execute_result",
          "data": {
            "text/plain": [
              "(50000,)"
            ]
          },
          "metadata": {},
          "execution_count": 7
        }
      ],
      "source": [
        "y_train.shape"
      ]
    },
    {
      "cell_type": "code",
      "execution_count": 8,
      "metadata": {
        "colab": {
          "base_uri": "https://localhost:8080/",
          "height": 269
        },
        "id": "EhTrkSMllpdc",
        "outputId": "111312aa-8c31-4462-f15c-1db159817667"
      },
      "outputs": [
        {
          "output_type": "display_data",
          "data": {
            "text/plain": [
              "<Figure size 432x288 with 25 Axes>"
            ],
            "image/png": "[encoded data removed]"
          },
          "metadata": {
            "needs_background": "light"
          }
        }
      ],
      "source": [
        "# visualize data by plotting images\n",
        "fig, ax = plt.subplots(5, 5)\n",
        "k = 0\n",
        "\n",
        "for i in range(5):\n",
        "\tfor j in range(5):\n",
        "\t\tax[i][j].imshow(X_train[k], aspect='auto')\n",
        "\t\tk += 1\n",
        "\n",
        "plt.show()\n"
      ]
    },
    {
      "cell_type": "code",
      "execution_count": 9,
      "metadata": {
        "colab": {
          "base_uri": "https://localhost:8080/"
        },
        "id": "hlIEtu6SrMid",
        "outputId": "670a6504-55e2-4b50-9d14-26db6b061265"
      },
      "outputs": [
        {
          "output_type": "execute_result",
          "data": {
            "text/plain": [
              "6    5000\n",
              "9    5000\n",
              "4    5000\n",
              "1    5000\n",
              "2    5000\n",
              "7    5000\n",
              "8    5000\n",
              "3    5000\n",
              "5    5000\n",
              "0    5000\n",
              "dtype: int64"
            ]
          },
          "metadata": {},
          "execution_count": 9
        }
      ],
      "source": [
        "pd.value_counts(y_train)"
      ]
    },
    {
      "cell_type": "code",
      "execution_count": 10,
      "metadata": {
        "colab": {
          "base_uri": "https://localhost:8080/"
        },
        "id": "sQQRXqMso0Nf",
        "outputId": "2d15f56c-1db9-4c30-e792-f9e27d043988"
      },
      "outputs": [
        {
          "output_type": "execute_result",
          "data": {
            "text/plain": [
              "(32, 32, 3)"
            ]
          },
          "metadata": {},
          "execution_count": 10
        }
      ],
      "source": [
        "X_train.shape[1:]"
      ]
    },
    {
      "cell_type": "code",
      "execution_count": 11,
      "metadata": {
        "id": "j8Or-jJK1DtK"
      },
      "outputs": [],
      "source": [
        "Xn_cifar=X_train\n",
        "Xs_cifar=X_test\n",
        "yn_cifar=y_train\n",
        "ys_cifar=y_test"
      ]
    },
    {
      "cell_type": "markdown",
      "metadata": {
        "id": "0kdkPIpeAfnX"
      },
      "source": [
        "### `DNN`"
      ]
    },
    {
      "cell_type": "code",
      "execution_count": 12,
      "metadata": {
        "colab": {
          "base_uri": "https://localhost:8080/"
        },
        "id": "5KkmHw4coht3",
        "outputId": "14c86914-1005-407d-c07c-9f13fc16edfa"
      },
      "outputs": [
        {
          "output_type": "stream",
          "name": "stdout",
          "text": [
            "(50000, 3072)\n",
            "(10000, 3072)\n"
          ]
        }
      ],
      "source": [
        "#flatten\n",
        "X_train_f = X_train.reshape((len(X_train), np.prod(X_train.shape[1:])))\n",
        "X_test_f = X_test.reshape((len(X_test), np.prod(X_test.shape[1:])))\n",
        "print(X_train_f.shape)\n",
        "print(X_test_f.shape)"
      ]
    },
    {
      "cell_type": "code",
      "execution_count": 13,
      "metadata": {
        "id": "FfINUiHxl49N"
      },
      "outputs": [],
      "source": [
        "model = tf.keras.Sequential([\n",
        "                             \n",
        "    Dense(3072,input_shape=(3072,),activation='relu'),\n",
        "    Dropout(0.2),\n",
        "    Dense(768, activation='relu'),\n",
        "    Dropout(0.2),\n",
        "    Dense(128, activation='relu'),\n",
        "    Dropout(0.2),\n",
        "    Dense(96, activation='relu'),\n",
        "    Dropout(0.2),\n",
        "    Dense(48, activation='relu'),\n",
        "\n",
        "    Dense(10,activation='softmax')\n",
        "])"
      ]
    },
    {
      "cell_type": "code",
      "execution_count": 14,
      "metadata": {
        "colab": {
          "base_uri": "https://localhost:8080/"
        },
        "id": "O7Br92xssB6d",
        "outputId": "6fac13b9-e11f-479a-8e87-f82093afd189"
      },
      "outputs": [
        {
          "output_type": "stream",
          "name": "stdout",
          "text": [
            "Model: \"sequential\"\n",
            "_________________________________________________________________\n",
            " Layer (type)                Output Shape              Param #   \n",
            "=================================================================\n",
            " dense (Dense)               (None, 3072)              9440256   \n",
            "                                                                 \n",
            " dropout (Dropout)           (None, 3072)              0         \n",
            "                                                                 \n",
            " dense_1 (Dense)             (None, 768)               2360064   \n",
            "                                                                 \n",
            " dropout_1 (Dropout)         (None, 768)               0         \n",
            "                                                                 \n",
            " dense_2 (Dense)             (None, 128)               98432     \n",
            "                                                                 \n",
            " dropout_2 (Dropout)         (None, 128)               0         \n",
            "                                                                 \n",
            " dense_3 (Dense)             (None, 96)                12384     \n",
            "                                                                 \n",
            " dropout_3 (Dropout)         (None, 96)                0         \n",
            "                                                                 \n",
            " dense_4 (Dense)             (None, 48)                4656      \n",
            "                                                                 \n",
            " dense_5 (Dense)             (None, 10)                490       \n",
            "                                                                 \n",
            "=================================================================\n",
            "Total params: 11,916,282\n",
            "Trainable params: 11,916,282\n",
            "Non-trainable params: 0\n",
            "_________________________________________________________________\n"
          ]
        }
      ],
      "source": [
        "model.summary()\n"
      ]
    },
    {
      "cell_type": "code",
      "execution_count": 15,
      "metadata": {
        "id": "dEqqRzIGsFOF"
      },
      "outputs": [],
      "source": [
        "model.compile(optimizer=optimizers.Adam( learning_rate=0.0001,beta_1=0.8,beta_2=0.99,),\n",
        "              loss=tf.keras.losses.sparse_categorical_crossentropy,\n",
        "              metrics=['accuracy'],)"
      ]
    },
    {
      "cell_type": "code",
      "execution_count": 16,
      "metadata": {
        "colab": {
          "base_uri": "https://localhost:8080/"
        },
        "id": "3KzVe508saeJ",
        "outputId": "217bdc2b-67b1-496c-abc9-65b650bface3"
      },
      "outputs": [
        {
          "output_type": "stream",
          "name": "stdout",
          "text": [
            "Epoch 1/50\n",
            "88/88 [==============================] - 5s 16ms/step - loss: 2.1596 - accuracy: 0.1872 - val_loss: 1.9657 - val_accuracy: 0.2974\n",
            "Epoch 2/50\n",
            "88/88 [==============================] - 1s 12ms/step - loss: 1.9821 - accuracy: 0.2758 - val_loss: 1.8598 - val_accuracy: 0.3388\n",
            "Epoch 3/50\n",
            "88/88 [==============================] - 1s 13ms/step - loss: 1.8871 - accuracy: 0.3219 - val_loss: 1.7792 - val_accuracy: 0.3642\n",
            "Epoch 4/50\n",
            "88/88 [==============================] - 1s 12ms/step - loss: 1.8174 - accuracy: 0.3498 - val_loss: 1.7215 - val_accuracy: 0.3922\n",
            "Epoch 5/50\n",
            "88/88 [==============================] - 1s 13ms/step - loss: 1.7630 - accuracy: 0.3690 - val_loss: 1.7078 - val_accuracy: 0.3964\n",
            "Epoch 6/50\n",
            "88/88 [==============================] - 1s 13ms/step - loss: 1.7228 - accuracy: 0.3856 - val_loss: 1.6601 - val_accuracy: 0.4168\n",
            "Epoch 7/50\n",
            "88/88 [==============================] - 1s 13ms/step - loss: 1.6811 - accuracy: 0.4017 - val_loss: 1.6179 - val_accuracy: 0.4306\n",
            "Epoch 8/50\n",
            "88/88 [==============================] - 1s 13ms/step - loss: 1.6526 - accuracy: 0.4118 - val_loss: 1.6019 - val_accuracy: 0.4294\n",
            "Epoch 9/50\n",
            "88/88 [==============================] - 1s 13ms/step - loss: 1.6258 - accuracy: 0.4220 - val_loss: 1.5567 - val_accuracy: 0.4520\n",
            "Epoch 10/50\n",
            "88/88 [==============================] - 1s 13ms/step - loss: 1.5885 - accuracy: 0.4354 - val_loss: 1.5456 - val_accuracy: 0.4502\n",
            "Epoch 11/50\n",
            "88/88 [==============================] - 1s 13ms/step - loss: 1.5686 - accuracy: 0.4422 - val_loss: 1.5189 - val_accuracy: 0.4600\n",
            "Epoch 12/50\n",
            "88/88 [==============================] - 1s 13ms/step - loss: 1.5422 - accuracy: 0.4539 - val_loss: 1.5266 - val_accuracy: 0.4656\n",
            "Epoch 13/50\n",
            "88/88 [==============================] - 1s 13ms/step - loss: 1.5193 - accuracy: 0.4616 - val_loss: 1.5042 - val_accuracy: 0.4700\n",
            "Epoch 14/50\n",
            "88/88 [==============================] - 1s 13ms/step - loss: 1.5029 - accuracy: 0.4678 - val_loss: 1.4582 - val_accuracy: 0.4766\n",
            "Epoch 15/50\n",
            "88/88 [==============================] - 1s 13ms/step - loss: 1.4848 - accuracy: 0.4746 - val_loss: 1.4739 - val_accuracy: 0.4726\n",
            "Epoch 16/50\n",
            "88/88 [==============================] - 1s 13ms/step - loss: 1.4625 - accuracy: 0.4820 - val_loss: 1.4389 - val_accuracy: 0.4880\n",
            "Epoch 17/50\n",
            "88/88 [==============================] - 1s 13ms/step - loss: 1.4465 - accuracy: 0.4882 - val_loss: 1.4233 - val_accuracy: 0.4988\n",
            "Epoch 18/50\n",
            "88/88 [==============================] - 1s 13ms/step - loss: 1.4262 - accuracy: 0.4945 - val_loss: 1.4064 - val_accuracy: 0.4966\n",
            "Epoch 19/50\n",
            "88/88 [==============================] - 1s 13ms/step - loss: 1.4108 - accuracy: 0.5023 - val_loss: 1.3997 - val_accuracy: 0.5092\n",
            "Epoch 20/50\n",
            "88/88 [==============================] - 1s 13ms/step - loss: 1.3936 - accuracy: 0.5081 - val_loss: 1.3947 - val_accuracy: 0.5046\n",
            "Epoch 21/50\n",
            "88/88 [==============================] - 1s 13ms/step - loss: 1.3719 - accuracy: 0.5144 - val_loss: 1.3768 - val_accuracy: 0.5144\n",
            "Epoch 22/50\n",
            "88/88 [==============================] - 1s 13ms/step - loss: 1.3581 - accuracy: 0.5217 - val_loss: 1.3772 - val_accuracy: 0.5094\n",
            "Epoch 23/50\n",
            "88/88 [==============================] - 1s 13ms/step - loss: 1.3460 - accuracy: 0.5268 - val_loss: 1.3741 - val_accuracy: 0.5178\n",
            "Epoch 24/50\n",
            "88/88 [==============================] - 1s 14ms/step - loss: 1.3246 - accuracy: 0.5296 - val_loss: 1.3588 - val_accuracy: 0.5256\n",
            "Epoch 25/50\n",
            "88/88 [==============================] - 1s 13ms/step - loss: 1.3092 - accuracy: 0.5368 - val_loss: 1.3740 - val_accuracy: 0.5168\n",
            "Epoch 26/50\n",
            "88/88 [==============================] - 1s 13ms/step - loss: 1.2982 - accuracy: 0.5440 - val_loss: 1.3662 - val_accuracy: 0.5216\n",
            "Epoch 27/50\n",
            "88/88 [==============================] - 1s 13ms/step - loss: 1.2794 - accuracy: 0.5467 - val_loss: 1.3529 - val_accuracy: 0.5258\n",
            "Epoch 28/50\n",
            "88/88 [==============================] - 1s 13ms/step - loss: 1.2632 - accuracy: 0.5529 - val_loss: 1.3591 - val_accuracy: 0.5262\n",
            "Epoch 29/50\n",
            "88/88 [==============================] - 1s 13ms/step - loss: 1.2495 - accuracy: 0.5557 - val_loss: 1.3320 - val_accuracy: 0.5354\n",
            "Epoch 30/50\n",
            "88/88 [==============================] - 1s 13ms/step - loss: 1.2382 - accuracy: 0.5635 - val_loss: 1.3349 - val_accuracy: 0.5336\n",
            "Epoch 31/50\n",
            "88/88 [==============================] - 1s 13ms/step - loss: 1.2243 - accuracy: 0.5688 - val_loss: 1.3305 - val_accuracy: 0.5358\n",
            "Epoch 32/50\n",
            "88/88 [==============================] - 1s 13ms/step - loss: 1.2050 - accuracy: 0.5726 - val_loss: 1.3254 - val_accuracy: 0.5308\n",
            "Epoch 33/50\n",
            "88/88 [==============================] - 1s 13ms/step - loss: 1.1880 - accuracy: 0.5811 - val_loss: 1.3039 - val_accuracy: 0.5448\n",
            "Epoch 34/50\n",
            "88/88 [==============================] - 1s 13ms/step - loss: 1.1753 - accuracy: 0.5864 - val_loss: 1.2960 - val_accuracy: 0.5434\n",
            "Epoch 35/50\n",
            "88/88 [==============================] - 1s 13ms/step - loss: 1.1614 - accuracy: 0.5894 - val_loss: 1.3203 - val_accuracy: 0.5390\n",
            "Epoch 36/50\n",
            "88/88 [==============================] - 1s 13ms/step - loss: 1.1464 - accuracy: 0.5947 - val_loss: 1.3092 - val_accuracy: 0.5506\n",
            "Epoch 37/50\n",
            "88/88 [==============================] - 1s 13ms/step - loss: 1.1257 - accuracy: 0.6037 - val_loss: 1.2865 - val_accuracy: 0.5522\n",
            "Epoch 38/50\n",
            "88/88 [==============================] - 1s 13ms/step - loss: 1.1160 - accuracy: 0.6047 - val_loss: 1.3304 - val_accuracy: 0.5444\n",
            "Epoch 39/50\n",
            "88/88 [==============================] - 1s 13ms/step - loss: 1.0982 - accuracy: 0.6120 - val_loss: 1.3294 - val_accuracy: 0.5476\n",
            "Epoch 40/50\n",
            "88/88 [==============================] - 1s 13ms/step - loss: 1.0912 - accuracy: 0.6145 - val_loss: 1.3222 - val_accuracy: 0.5488\n",
            "Epoch 41/50\n",
            "88/88 [==============================] - 1s 13ms/step - loss: 1.0785 - accuracy: 0.6210 - val_loss: 1.2887 - val_accuracy: 0.5514\n",
            "Epoch 42/50\n",
            "88/88 [==============================] - 1s 13ms/step - loss: 1.0583 - accuracy: 0.6265 - val_loss: 1.3895 - val_accuracy: 0.5226\n",
            "Epoch 43/50\n",
            "88/88 [==============================] - 1s 13ms/step - loss: 1.0427 - accuracy: 0.6297 - val_loss: 1.3348 - val_accuracy: 0.5464\n",
            "Epoch 44/50\n",
            "88/88 [==============================] - 1s 13ms/step - loss: 1.0324 - accuracy: 0.6330 - val_loss: 1.3296 - val_accuracy: 0.5482\n",
            "Epoch 45/50\n",
            "88/88 [==============================] - 1s 13ms/step - loss: 1.0233 - accuracy: 0.6358 - val_loss: 1.3191 - val_accuracy: 0.5546\n",
            "Epoch 46/50\n",
            "88/88 [==============================] - 1s 13ms/step - loss: 1.0009 - accuracy: 0.6442 - val_loss: 1.3037 - val_accuracy: 0.5542\n",
            "Epoch 47/50\n",
            "88/88 [==============================] - 1s 13ms/step - loss: 0.9897 - accuracy: 0.6502 - val_loss: 1.3146 - val_accuracy: 0.5518\n",
            "Epoch 48/50\n",
            "88/88 [==============================] - 1s 13ms/step - loss: 0.9843 - accuracy: 0.6549 - val_loss: 1.3011 - val_accuracy: 0.5566\n",
            "Epoch 49/50\n",
            "88/88 [==============================] - 1s 13ms/step - loss: 0.9637 - accuracy: 0.6588 - val_loss: 1.2917 - val_accuracy: 0.5608\n",
            "Epoch 50/50\n",
            "88/88 [==============================] - 1s 13ms/step - loss: 0.9517 - accuracy: 0.6626 - val_loss: 1.3115 - val_accuracy: 0.5566\n"
          ]
        }
      ],
      "source": [
        "history = model.fit(X_train_f, y_train, epochs=50, batch_size=512,\n",
        "                    validation_data=(X_test_f, y_test), validation_split=0.1\n",
        "                    )"
      ]
    },
    {
      "cell_type": "code",
      "source": [
        "import matplotlib.pyplot as plt\n",
        "acc = history.history['accuracy']\n",
        "val_acc = history.history['val_accuracy']\n",
        "loss = history.history['loss']\n",
        "val_loss = history.history['val_loss']\n",
        "\n",
        "epochs = range(len(acc))\n",
        "\n",
        "plt.plot(epochs, acc, 'r', label='Training accuracy')\n",
        "plt.plot(epochs, val_acc, 'b', label='Validation accuracy')\n",
        "plt.title('Training and validation accuracy')\n",
        "\n",
        "plt.figure()\n",
        "\n",
        "plt.plot(epochs, loss, 'r', label='Training Loss')\n",
        "plt.plot(epochs, val_loss, 'b', label='Validation Loss')\n",
        "plt.title('Training and validation loss')\n",
        "plt.legend()\n",
        "\n",
        "plt.show()"
      ],
      "metadata": {
        "colab": {
          "base_uri": "https://localhost:8080/",
          "height": 545
        },
        "id": "kOAK2_FEjAvM",
        "outputId": "0a2fd0dd-7447-4276-bdb0-850c3a7785df"
      },
      "execution_count": 17,
      "outputs": [
        {
          "output_type": "display_data",
          "data": {
            "text/plain": [
              "<Figure size 432x288 with 1 Axes>"
            ],
            "image/png": "[encoded data removed]"
          },
          "metadata": {
            "needs_background": "light"
          }
        },
        {
          "output_type": "display_data",
          "data": {
            "text/plain": [
              "<Figure size 432x288 with 1 Axes>"
            ],
            "image/png": "[encoded data removed]"
          },
          "metadata": {
            "needs_background": "light"
          }
        }
      ]
    },
    {
      "cell_type": "code",
      "execution_count": 18,
      "metadata": {
        "colab": {
          "base_uri": "https://localhost:8080/",
          "height": 283
        },
        "id": "0mF5dKOquuk-",
        "outputId": "912d9600-c7c9-4431-a873-659b8b3afdb9"
      },
      "outputs": [
        {
          "output_type": "stream",
          "name": "stdout",
          "text": [
            "Original label is horseship and predicted label is horseship\n"
          ]
        },
        {
          "output_type": "display_data",
          "data": {
            "text/plain": [
              "<Figure size 432x288 with 1 Axes>"
            ],
            "image/png": "[encoded data removed]"
          },
          "metadata": {
            "needs_background": "light"
          }
        }
      ],
      "source": [
        "labels = '''airplane automobile bird cat deerdog frog horseship truck'''.split()\n",
        "image_number = 5\n",
        "plt.imshow(Xs_cifar[image_number].reshape((32,32,3)))\n",
        "n = np.array(Xs_cifar[image_number].reshape((32,32,3)))\n",
        "p = n.reshape(1,np.prod(Xs_cifar.shape[1:]))\n",
        "predicted_label = labels[model.predict(p).argmax()]\n",
        "original_label = labels[ys_cifar[image_number]]\n",
        "print(\"Original label is {} and predicted label is {}\".format(\n",
        "\toriginal_label, predicted_label))"
      ]
    },
    {
      "cell_type": "markdown",
      "metadata": {
        "id": "Gy-epdAdEHyt"
      },
      "source": [
        "### `CNN`"
      ]
    },
    {
      "cell_type": "code",
      "execution_count": 19,
      "metadata": {
        "colab": {
          "base_uri": "https://localhost:8080/"
        },
        "id": "TKFWm44mB5VC",
        "outputId": "4333ccb3-8515-45cc-dd67-b93b5f1a2d2d"
      },
      "outputs": [
        {
          "output_type": "execute_result",
          "data": {
            "text/plain": [
              "(32, 32, 3)"
            ]
          },
          "metadata": {},
          "execution_count": 19
        }
      ],
      "source": [
        "shape=X_train[0].shape\n",
        "shape"
      ]
    },
    {
      "cell_type": "code",
      "execution_count": 20,
      "metadata": {
        "id": "lDdI4-sPwQg0"
      },
      "outputs": [],
      "source": [
        "# padding='same'\n",
        "model2 = tf.keras.Sequential([\n",
        "    Input(shape=X_train[0].shape),\n",
        "\n",
        "    Conv2D(32, (3, 3), activation='relu', padding='same'),\n",
        "    BatchNormalization(),\n",
        "    Conv2D(32, (3, 3), activation='relu', padding='same'),\n",
        "    BatchNormalization(),\n",
        "    MaxPooling2D((2, 2)),\n",
        "\n",
        "\n",
        "    Conv2D(64, (3, 3), activation='relu', padding='same'),\n",
        "    BatchNormalization(),\n",
        "    Conv2D(64, (3, 3), activation='relu', padding='same'),\n",
        "    BatchNormalization(),\n",
        "    MaxPooling2D((2, 2)),\n",
        "\n",
        "    \n",
        "    Conv2D(128, (3, 3), activation='relu', padding='same'),\n",
        "    BatchNormalization(),\n",
        "    Conv2D(128, (3, 3), activation='relu', padding='same'),\n",
        "    BatchNormalization(),\n",
        "    MaxPooling2D((2, 2)),\n",
        "    \n",
        "    Flatten(),\n",
        "    Dropout(0.2),\n",
        "    \n",
        "    Dense(512, activation='relu'),\n",
        "    Dropout(0.30),\n",
        "    # Dense(512, activation='relu'),\n",
        "    # Dropout(0.2),\n",
        "    \n",
        "    Dense(10, activation='softmax')])"
      ]
    },
    {
      "cell_type": "code",
      "execution_count": 21,
      "metadata": {
        "colab": {
          "base_uri": "https://localhost:8080/"
        },
        "id": "KD0SylBLFABQ",
        "outputId": "dd2de5dd-6212-4803-ed4d-c73401518aef"
      },
      "outputs": [
        {
          "output_type": "stream",
          "name": "stdout",
          "text": [
            "Model: \"sequential_1\"\n",
            "_________________________________________________________________\n",
            " Layer (type)                Output Shape              Param #   \n",
            "=================================================================\n",
            " conv2d (Conv2D)             (None, 32, 32, 32)        896       \n",
            "                                                                 \n",
            " batch_normalization (BatchN  (None, 32, 32, 32)       128       \n",
            " ormalization)                                                   \n",
            "                                                                 \n",
            " conv2d_1 (Conv2D)           (None, 32, 32, 32)        9248      \n",
            "                                                                 \n",
            " batch_normalization_1 (Batc  (None, 32, 32, 32)       128       \n",
            " hNormalization)                                                 \n",
            "                                                                 \n",
            " max_pooling2d (MaxPooling2D  (None, 16, 16, 32)       0         \n",
            " )                                                               \n",
            "                                                                 \n",
            " conv2d_2 (Conv2D)           (None, 16, 16, 64)        18496     \n",
            "                                                                 \n",
            " batch_normalization_2 (Batc  (None, 16, 16, 64)       256       \n",
            " hNormalization)                                                 \n",
            "                                                                 \n",
            " conv2d_3 (Conv2D)           (None, 16, 16, 64)        36928     \n",
            "                                                                 \n",
            " batch_normalization_3 (Batc  (None, 16, 16, 64)       256       \n",
            " hNormalization)                                                 \n",
            "                                                                 \n",
            " max_pooling2d_1 (MaxPooling  (None, 8, 8, 64)         0         \n",
            " 2D)                                                             \n",
            "                                                                 \n",
            " conv2d_4 (Conv2D)           (None, 8, 8, 128)         73856     \n",
            "                                                                 \n",
            " batch_normalization_4 (Batc  (None, 8, 8, 128)        512       \n",
            " hNormalization)                                                 \n",
            "                                                                 \n",
            " conv2d_5 (Conv2D)           (None, 8, 8, 128)         147584    \n",
            "                                                                 \n",
            " batch_normalization_5 (Batc  (None, 8, 8, 128)        512       \n",
            " hNormalization)                                                 \n",
            "                                                                 \n",
            " max_pooling2d_2 (MaxPooling  (None, 4, 4, 128)        0         \n",
            " 2D)                                                             \n",
            "                                                                 \n",
            " flatten (Flatten)           (None, 2048)              0         \n",
            "                                                                 \n",
            " dropout_4 (Dropout)         (None, 2048)              0         \n",
            "                                                                 \n",
            " dense_6 (Dense)             (None, 512)               1049088   \n",
            "                                                                 \n",
            " dropout_5 (Dropout)         (None, 512)               0         \n",
            "                                                                 \n",
            " dense_7 (Dense)             (None, 10)                5130      \n",
            "                                                                 \n",
            "=================================================================\n",
            "Total params: 1,343,018\n",
            "Trainable params: 1,342,122\n",
            "Non-trainable params: 896\n",
            "_________________________________________________________________\n"
          ]
        }
      ],
      "source": [
        "model2.summary()"
      ]
    },
    {
      "cell_type": "code",
      "execution_count": 22,
      "metadata": {
        "id": "VocOULGvFSY5"
      },
      "outputs": [],
      "source": [
        "# Compile\n",
        "model2.compile(optimizer='adam',\n",
        "              loss='sparse_categorical_crossentropy',\n",
        "              metrics=['accuracy'])"
      ]
    },
    {
      "cell_type": "code",
      "execution_count": 23,
      "metadata": {
        "colab": {
          "base_uri": "https://localhost:8080/"
        },
        "id": "lGhZmY49Ffcz",
        "outputId": "54650807-fc42-4c16-847f-9b6b914caab5"
      },
      "outputs": [
        {
          "output_type": "stream",
          "name": "stdout",
          "text": [
            "Epoch 1/50\n",
            "704/704 [==============================] - 17s 11ms/step - loss: 1.4179 - accuracy: 0.5027 - val_loss: 1.0300 - val_accuracy: 0.6376\n",
            "Epoch 2/50\n",
            "704/704 [==============================] - 7s 9ms/step - loss: 0.9228 - accuracy: 0.6750 - val_loss: 0.8314 - val_accuracy: 0.7142\n",
            "Epoch 3/50\n",
            "704/704 [==============================] - 7s 9ms/step - loss: 0.7461 - accuracy: 0.7391 - val_loss: 0.7380 - val_accuracy: 0.7446\n",
            "Epoch 4/50\n",
            "704/704 [==============================] - 7s 9ms/step - loss: 0.6408 - accuracy: 0.7783 - val_loss: 0.7436 - val_accuracy: 0.7446\n",
            "Epoch 5/50\n",
            "704/704 [==============================] - 7s 9ms/step - loss: 0.5582 - accuracy: 0.8049 - val_loss: 0.5889 - val_accuracy: 0.7978\n",
            "Epoch 6/50\n",
            "704/704 [==============================] - 7s 9ms/step - loss: 0.4795 - accuracy: 0.8326 - val_loss: 0.6540 - val_accuracy: 0.7880\n",
            "Epoch 7/50\n",
            "704/704 [==============================] - 7s 9ms/step - loss: 0.4176 - accuracy: 0.8542 - val_loss: 0.7608 - val_accuracy: 0.7682\n",
            "Epoch 8/50\n",
            "704/704 [==============================] - 7s 9ms/step - loss: 0.3674 - accuracy: 0.8709 - val_loss: 0.6513 - val_accuracy: 0.7868\n",
            "Epoch 9/50\n",
            "704/704 [==============================] - 7s 9ms/step - loss: 0.3231 - accuracy: 0.8872 - val_loss: 0.6767 - val_accuracy: 0.7968\n",
            "Epoch 10/50\n",
            "704/704 [==============================] - 7s 9ms/step - loss: 0.2833 - accuracy: 0.9008 - val_loss: 0.5979 - val_accuracy: 0.8156\n",
            "Epoch 11/50\n",
            "704/704 [==============================] - 7s 9ms/step - loss: 0.2467 - accuracy: 0.9145 - val_loss: 0.6469 - val_accuracy: 0.8178\n",
            "Epoch 12/50\n",
            "704/704 [==============================] - 7s 9ms/step - loss: 0.2121 - accuracy: 0.9264 - val_loss: 0.7354 - val_accuracy: 0.8166\n",
            "Epoch 13/50\n",
            "704/704 [==============================] - 7s 10ms/step - loss: 0.1955 - accuracy: 0.9331 - val_loss: 0.6661 - val_accuracy: 0.8266\n",
            "Epoch 14/50\n",
            "704/704 [==============================] - 7s 9ms/step - loss: 0.1819 - accuracy: 0.9378 - val_loss: 0.6528 - val_accuracy: 0.8278\n",
            "Epoch 15/50\n",
            "704/704 [==============================] - 7s 10ms/step - loss: 0.1672 - accuracy: 0.9421 - val_loss: 0.6890 - val_accuracy: 0.8256\n",
            "Epoch 16/50\n",
            "704/704 [==============================] - 7s 10ms/step - loss: 0.1584 - accuracy: 0.9448 - val_loss: 0.8250 - val_accuracy: 0.8262\n",
            "Epoch 17/50\n",
            "704/704 [==============================] - 7s 10ms/step - loss: 0.1462 - accuracy: 0.9504 - val_loss: 0.7384 - val_accuracy: 0.8178\n",
            "Epoch 18/50\n",
            "704/704 [==============================] - 7s 9ms/step - loss: 0.1341 - accuracy: 0.9544 - val_loss: 0.8425 - val_accuracy: 0.8256\n",
            "Epoch 19/50\n",
            "704/704 [==============================] - 7s 9ms/step - loss: 0.1305 - accuracy: 0.9556 - val_loss: 0.7133 - val_accuracy: 0.8314\n",
            "Epoch 20/50\n",
            "704/704 [==============================] - 7s 9ms/step - loss: 0.1211 - accuracy: 0.9583 - val_loss: 0.8363 - val_accuracy: 0.8214\n",
            "Epoch 21/50\n",
            "704/704 [==============================] - 7s 9ms/step - loss: 0.1223 - accuracy: 0.9600 - val_loss: 0.7801 - val_accuracy: 0.8280\n",
            "Epoch 22/50\n",
            "704/704 [==============================] - 7s 10ms/step - loss: 0.1076 - accuracy: 0.9636 - val_loss: 0.8198 - val_accuracy: 0.8356\n",
            "Epoch 23/50\n",
            "704/704 [==============================] - 7s 9ms/step - loss: 0.1090 - accuracy: 0.9633 - val_loss: 0.7325 - val_accuracy: 0.8404\n",
            "Epoch 24/50\n",
            "704/704 [==============================] - 7s 9ms/step - loss: 0.1063 - accuracy: 0.9652 - val_loss: 0.7763 - val_accuracy: 0.8328\n",
            "Epoch 25/50\n",
            "704/704 [==============================] - 7s 9ms/step - loss: 0.1071 - accuracy: 0.9638 - val_loss: 0.8379 - val_accuracy: 0.8314\n",
            "Epoch 26/50\n",
            "704/704 [==============================] - 7s 9ms/step - loss: 0.1017 - accuracy: 0.9662 - val_loss: 0.7806 - val_accuracy: 0.8374\n",
            "Epoch 27/50\n",
            "704/704 [==============================] - 7s 9ms/step - loss: 0.0862 - accuracy: 0.9716 - val_loss: 0.8296 - val_accuracy: 0.8414\n",
            "Epoch 28/50\n",
            "704/704 [==============================] - 7s 9ms/step - loss: 0.0882 - accuracy: 0.9708 - val_loss: 0.8632 - val_accuracy: 0.8404\n",
            "Epoch 29/50\n",
            "704/704 [==============================] - 7s 9ms/step - loss: 0.0914 - accuracy: 0.9700 - val_loss: 0.7728 - val_accuracy: 0.8452\n",
            "Epoch 30/50\n",
            "704/704 [==============================] - 7s 9ms/step - loss: 0.0855 - accuracy: 0.9724 - val_loss: 0.7661 - val_accuracy: 0.8508\n",
            "Epoch 31/50\n",
            "704/704 [==============================] - 7s 9ms/step - loss: 0.0790 - accuracy: 0.9740 - val_loss: 0.7835 - val_accuracy: 0.8460\n",
            "Epoch 32/50\n",
            "704/704 [==============================] - 7s 9ms/step - loss: 0.0798 - accuracy: 0.9737 - val_loss: 0.7792 - val_accuracy: 0.8440\n",
            "Epoch 33/50\n",
            "704/704 [==============================] - 7s 9ms/step - loss: 0.0821 - accuracy: 0.9726 - val_loss: 0.8158 - val_accuracy: 0.8328\n",
            "Epoch 34/50\n",
            "704/704 [==============================] - 7s 10ms/step - loss: 0.0769 - accuracy: 0.9747 - val_loss: 0.8923 - val_accuracy: 0.8336\n",
            "Epoch 35/50\n",
            "704/704 [==============================] - 7s 9ms/step - loss: 0.0672 - accuracy: 0.9779 - val_loss: 1.0002 - val_accuracy: 0.8304\n",
            "Epoch 36/50\n",
            "704/704 [==============================] - 7s 9ms/step - loss: 0.0748 - accuracy: 0.9764 - val_loss: 0.8887 - val_accuracy: 0.8394\n",
            "Epoch 37/50\n",
            "704/704 [==============================] - 7s 10ms/step - loss: 0.0704 - accuracy: 0.9769 - val_loss: 0.9412 - val_accuracy: 0.8326\n",
            "Epoch 38/50\n",
            "704/704 [==============================] - 7s 10ms/step - loss: 0.0637 - accuracy: 0.9794 - val_loss: 0.8443 - val_accuracy: 0.8374\n",
            "Epoch 39/50\n",
            "704/704 [==============================] - 7s 10ms/step - loss: 0.0672 - accuracy: 0.9781 - val_loss: 0.8639 - val_accuracy: 0.8396\n",
            "Epoch 40/50\n",
            "704/704 [==============================] - 7s 10ms/step - loss: 0.0659 - accuracy: 0.9783 - val_loss: 0.9746 - val_accuracy: 0.8416\n",
            "Epoch 41/50\n",
            "704/704 [==============================] - 7s 9ms/step - loss: 0.0654 - accuracy: 0.9792 - val_loss: 1.0173 - val_accuracy: 0.8390\n",
            "Epoch 42/50\n",
            "704/704 [==============================] - 7s 9ms/step - loss: 0.0649 - accuracy: 0.9791 - val_loss: 0.8844 - val_accuracy: 0.8412\n",
            "Epoch 43/50\n",
            "704/704 [==============================] - 7s 9ms/step - loss: 0.0572 - accuracy: 0.9811 - val_loss: 0.8776 - val_accuracy: 0.8450\n",
            "Epoch 44/50\n",
            "704/704 [==============================] - 7s 10ms/step - loss: 0.0571 - accuracy: 0.9815 - val_loss: 0.8593 - val_accuracy: 0.8442\n",
            "Epoch 45/50\n",
            "704/704 [==============================] - 7s 9ms/step - loss: 0.0608 - accuracy: 0.9807 - val_loss: 0.8456 - val_accuracy: 0.8480\n",
            "Epoch 46/50\n",
            "704/704 [==============================] - 7s 9ms/step - loss: 0.0584 - accuracy: 0.9815 - val_loss: 0.8702 - val_accuracy: 0.8420\n",
            "Epoch 47/50\n",
            "704/704 [==============================] - 7s 10ms/step - loss: 0.0526 - accuracy: 0.9827 - val_loss: 0.8537 - val_accuracy: 0.8484\n",
            "Epoch 48/50\n",
            "704/704 [==============================] - 7s 9ms/step - loss: 0.0552 - accuracy: 0.9824 - val_loss: 0.8582 - val_accuracy: 0.8444\n",
            "Epoch 49/50\n",
            "704/704 [==============================] - 7s 10ms/step - loss: 0.0469 - accuracy: 0.9846 - val_loss: 0.9219 - val_accuracy: 0.8454\n",
            "Epoch 50/50\n",
            "704/704 [==============================] - 7s 9ms/step - loss: 0.0577 - accuracy: 0.9817 - val_loss: 0.8398 - val_accuracy: 0.8464\n"
          ]
        }
      ],
      "source": [
        "history2 = model2.fit(X_train, y_train, epochs=50, \n",
        "                    validation_data=(X_test, y_test), \n",
        "                   batch_size=64,validation_split=0.1 )"
      ]
    },
    {
      "cell_type": "code",
      "source": [
        "acc = history2.history['accuracy']\n",
        "val_acc = history2.history['val_accuracy']\n",
        "loss = history2.history['loss']\n",
        "val_loss = history2.history['val_loss']\n",
        "\n",
        "epochs = range(len(acc))\n",
        "\n",
        "plt.plot(epochs, acc, 'r', label='Training accuracy')\n",
        "plt.plot(epochs, val_acc, 'b', label='Validation accuracy')\n",
        "plt.title('Training and validation accuracy')\n",
        "\n",
        "plt.figure()\n",
        "\n",
        "plt.plot(epochs, loss, 'r', label='Training Loss')\n",
        "plt.plot(epochs, val_loss, 'b', label='Validation Loss')\n",
        "plt.title('Training and validation loss')\n",
        "plt.legend()\n",
        "\n",
        "plt.show()"
      ],
      "metadata": {
        "colab": {
          "base_uri": "https://localhost:8080/",
          "height": 545
        },
        "id": "oEMGig_BBaaQ",
        "outputId": "b17f544b-057d-4eab-91d8-2037894470cf"
      },
      "execution_count": 24,
      "outputs": [
        {
          "output_type": "display_data",
          "data": {
            "text/plain": [
              "<Figure size 432x288 with 1 Axes>"
            ],
            "image/png": "[encoded data removed]"
          },
          "metadata": {
            "needs_background": "light"
          }
        },
        {
          "output_type": "display_data",
          "data": {
            "text/plain": [
              "<Figure size 432x288 with 1 Axes>"
            ],
            "image/png": "[encoded data removed]"
          },
          "metadata": {
            "needs_background": "light"
          }
        }
      ]
    },
    {
      "cell_type": "code",
      "execution_count": 25,
      "metadata": {
        "colab": {
          "base_uri": "https://localhost:8080/",
          "height": 283
        },
        "id": "-qlLZUrwFsNR",
        "outputId": "20875273-6f55-4c7e-88d5-b0087ea3feff"
      },
      "outputs": [
        {
          "output_type": "stream",
          "name": "stdout",
          "text": [
            "Original label is cat and predicted label is cat\n"
          ]
        },
        {
          "output_type": "display_data",
          "data": {
            "text/plain": [
              "<Figure size 432x288 with 1 Axes>"
            ],
            "image/png": "[encoded data removed]"
          },
          "metadata": {
            "needs_background": "light"
          }
        }
      ],
      "source": [
        "\n",
        "labels = '''airplane automobile bird cat deerdog frog horseship truck'''.split()\n",
        "\n",
        "image_number = 8\n",
        "plt.imshow(Xs_cifar[image_number])\n",
        "n = np.array(Xs_cifar[image_number])\n",
        "p = n.reshape(1, 32, 32, 3)\n",
        "predicted_label = labels[model2.predict(p).argmax()]\n",
        "original_label = labels[ys_cifar[image_number]]\n",
        "print(\"Original label is {} and predicted label is {}\".format(\n",
        "\toriginal_label, predicted_label))"
      ]
    },
    {
      "cell_type": "markdown",
      "metadata": {
        "id": "0Y4bWosQEk43"
      },
      "source": [
        "## `Case 2`\n"
      ]
    },
    {
      "cell_type": "code",
      "execution_count": 26,
      "metadata": {
        "id": "S_rPzjFPElY4",
        "colab": {
          "base_uri": "https://localhost:8080/"
        },
        "outputId": "cfb685f5-4df5-4793-f0ff-6060cb842acc"
      },
      "outputs": [
        {
          "output_type": "stream",
          "name": "stdout",
          "text": [
            "Downloading data from https://storage.googleapis.com/tensorflow/tf-keras-datasets/mnist.npz\n",
            "11493376/11490434 [==============================] - 0s 0us/step\n",
            "11501568/11490434 [==============================] - 0s 0us/step\n"
          ]
        }
      ],
      "source": [
        "# Load in the data\n",
        "mnist = tf.keras.datasets.mnist\n",
        "# Distribute it to train and test set\n",
        "(X_train, y_train), (X_test, y_test) = mnist.load_data()\n"
      ]
    },
    {
      "cell_type": "code",
      "execution_count": 27,
      "metadata": {
        "colab": {
          "base_uri": "https://localhost:8080/"
        },
        "id": "bEVnpgQmGO90",
        "outputId": "73b2cd4c-85c9-409c-bae5-e652293e6757"
      },
      "outputs": [
        {
          "output_type": "execute_result",
          "data": {
            "text/plain": [
              "(60000, 28, 28)"
            ]
          },
          "metadata": {},
          "execution_count": 27
        }
      ],
      "source": [
        "X_train.shape"
      ]
    },
    {
      "cell_type": "code",
      "execution_count": 28,
      "metadata": {
        "colab": {
          "base_uri": "https://localhost:8080/"
        },
        "id": "3J6Z75X6HhD_",
        "outputId": "e3cd6e84-bba4-46b7-e968-e84f654b5f82"
      },
      "outputs": [
        {
          "output_type": "execute_result",
          "data": {
            "text/plain": [
              "(10000, 28, 28)"
            ]
          },
          "metadata": {},
          "execution_count": 28
        }
      ],
      "source": [
        "X_test.shape"
      ]
    },
    {
      "cell_type": "code",
      "execution_count": 29,
      "metadata": {
        "colab": {
          "base_uri": "https://localhost:8080/"
        },
        "id": "jXS1gYRFHkQg",
        "outputId": "02eff440-e84a-4cb0-cb59-37b26eb0f5f8"
      },
      "outputs": [
        {
          "output_type": "execute_result",
          "data": {
            "text/plain": [
              "(60000,)"
            ]
          },
          "metadata": {},
          "execution_count": 29
        }
      ],
      "source": [
        "y_train.shape"
      ]
    },
    {
      "cell_type": "code",
      "execution_count": 30,
      "metadata": {
        "id": "1YjB0lbFH0_E"
      },
      "outputs": [],
      "source": [
        "# Reduce pixel values\n",
        "X_train = X_train.astype('float32') / 255.\n",
        "X_test = X_test.astype('float32') / 255."
      ]
    },
    {
      "cell_type": "code",
      "execution_count": 31,
      "metadata": {
        "id": "JQuARt45c3q_"
      },
      "outputs": [],
      "source": [
        "X_train = np.reshape(X_train, (len(X_train), 28, 28, 1))\n",
        "X_test = np.reshape(X_test, (len(X_test), 28, 28, 1))"
      ]
    },
    {
      "cell_type": "code",
      "execution_count": 32,
      "metadata": {
        "id": "UWmAhP8cwvFE"
      },
      "outputs": [],
      "source": [
        "Xn_mnist=X_train\n",
        "Xs_mnist=X_test\n",
        "yn_mnist=y_train\n",
        "ys_mnist=y_test"
      ]
    },
    {
      "cell_type": "code",
      "execution_count": 33,
      "metadata": {
        "colab": {
          "base_uri": "https://localhost:8080/"
        },
        "id": "jxrzZpzudxKl",
        "outputId": "cd6d67d6-ed66-4493-efc1-c9929bd3c70e"
      },
      "outputs": [
        {
          "output_type": "execute_result",
          "data": {
            "text/plain": [
              "(60000, 28, 28, 1)"
            ]
          },
          "metadata": {},
          "execution_count": 33
        }
      ],
      "source": [
        "X_train.shape"
      ]
    },
    {
      "cell_type": "code",
      "execution_count": 34,
      "metadata": {
        "colab": {
          "base_uri": "https://localhost:8080/",
          "height": 129
        },
        "id": "laHge3ulH643",
        "outputId": "dae8aef7-4853-41b1-dbb0-1570919322a2"
      },
      "outputs": [
        {
          "output_type": "display_data",
          "data": {
            "text/plain": [
              "<Figure size 1440x288 with 10 Axes>"
            ],
            "image/png": "[encoded data removed]"
          },
          "metadata": {
            "needs_background": "light"
          }
        }
      ],
      "source": [
        "n = 10\n",
        "plt.figure(figsize=(20, 4))\n",
        "for i in range(1, n + 1):\n",
        "    # Display original\n",
        "    ax = plt.subplot(2, n, i)\n",
        "    plt.imshow(X_test[i].reshape(28, 28))\n",
        "    plt.gray()\n",
        "    ax.get_xaxis().set_visible(False)\n",
        "    ax.get_yaxis().set_visible(False)"
      ]
    },
    {
      "cell_type": "code",
      "execution_count": 35,
      "metadata": {
        "colab": {
          "base_uri": "https://localhost:8080/"
        },
        "id": "YPT7AkPQIA6K",
        "outputId": "262a03da-06bd-4773-b2de-609c2097d3b3"
      },
      "outputs": [
        {
          "output_type": "execute_result",
          "data": {
            "text/plain": [
              "1    6742\n",
              "7    6265\n",
              "3    6131\n",
              "2    5958\n",
              "9    5949\n",
              "0    5923\n",
              "6    5918\n",
              "8    5851\n",
              "4    5842\n",
              "5    5421\n",
              "dtype: int64"
            ]
          },
          "metadata": {},
          "execution_count": 35
        }
      ],
      "source": [
        "pd.value_counts(y_train)"
      ]
    },
    {
      "cell_type": "code",
      "execution_count": 36,
      "metadata": {
        "id": "n9_ZF1ktIk5V"
      },
      "outputs": [],
      "source": [
        "y_train_c = keras.utils.to_categorical(y_train)\n",
        "y_test_c = keras.utils.to_categorical(y_test)"
      ]
    },
    {
      "cell_type": "code",
      "execution_count": 37,
      "metadata": {
        "colab": {
          "base_uri": "https://localhost:8080/"
        },
        "id": "my1pXK9MQhTC",
        "outputId": "10c233a7-57f2-45fd-ada7-29a4f14ab85d"
      },
      "outputs": [
        {
          "output_type": "execute_result",
          "data": {
            "text/plain": [
              "array([[0., 0., 0., ..., 0., 0., 0.],\n",
              "       [1., 0., 0., ..., 0., 0., 0.],\n",
              "       [0., 0., 0., ..., 0., 0., 0.],\n",
              "       ...,\n",
              "       [0., 0., 0., ..., 0., 0., 0.],\n",
              "       [0., 0., 0., ..., 0., 0., 0.],\n",
              "       [0., 0., 0., ..., 0., 1., 0.]], dtype=float32)"
            ]
          },
          "metadata": {},
          "execution_count": 37
        }
      ],
      "source": [
        "y_train_c"
      ]
    },
    {
      "cell_type": "code",
      "execution_count": 38,
      "metadata": {
        "colab": {
          "base_uri": "https://localhost:8080/"
        },
        "id": "CTyxQ747QshZ",
        "outputId": "fc37a47c-5ebd-4d0d-e251-3d54a079ce29"
      },
      "outputs": [
        {
          "output_type": "execute_result",
          "data": {
            "text/plain": [
              "array([[0., 0., 0., ..., 1., 0., 0.],\n",
              "       [0., 0., 1., ..., 0., 0., 0.],\n",
              "       [0., 1., 0., ..., 0., 0., 0.],\n",
              "       ...,\n",
              "       [0., 0., 0., ..., 0., 0., 0.],\n",
              "       [0., 0., 0., ..., 0., 0., 0.],\n",
              "       [0., 0., 0., ..., 0., 0., 0.]], dtype=float32)"
            ]
          },
          "metadata": {},
          "execution_count": 38
        }
      ],
      "source": [
        "y_test_c"
      ]
    },
    {
      "cell_type": "code",
      "execution_count": 39,
      "metadata": {
        "colab": {
          "base_uri": "https://localhost:8080/"
        },
        "id": "_5JVKdGTQvdx",
        "outputId": "d7b5c4fe-2ad8-4bc0-81c1-ab0bf13009b4"
      },
      "outputs": [
        {
          "output_type": "execute_result",
          "data": {
            "text/plain": [
              "(28, 28, 1)"
            ]
          },
          "metadata": {},
          "execution_count": 39
        }
      ],
      "source": [
        "X_train[0].shape"
      ]
    },
    {
      "cell_type": "code",
      "execution_count": 40,
      "metadata": {
        "colab": {
          "base_uri": "https://localhost:8080/"
        },
        "id": "q5L6kQt3XS-a",
        "outputId": "806db81c-c002-4d32-c455-d364f151f3c2"
      },
      "outputs": [
        {
          "output_type": "execute_result",
          "data": {
            "text/plain": [
              "(28, 28, 1)"
            ]
          },
          "metadata": {},
          "execution_count": 40
        }
      ],
      "source": [
        "X_train.shape[1:]"
      ]
    },
    {
      "cell_type": "markdown",
      "metadata": {
        "id": "Xf2wFABQSjYS"
      },
      "source": [
        "### `DNN`"
      ]
    },
    {
      "cell_type": "code",
      "execution_count": 41,
      "metadata": {
        "colab": {
          "base_uri": "https://localhost:8080/"
        },
        "id": "czNnXD_bSggf",
        "outputId": "442b88a7-6809-41f6-e985-7d4e61ecc799"
      },
      "outputs": [
        {
          "output_type": "stream",
          "name": "stdout",
          "text": [
            "(60000, 784)\n",
            "(10000, 784)\n"
          ]
        }
      ],
      "source": [
        "#flatten\n",
        "X_train_ff = X_train.reshape((len(X_train), np.prod(X_train.shape[1:])))\n",
        "X_test_ff = X_test.reshape((len(X_test), np.prod(X_test.shape[1:])))\n",
        "print(X_train_ff.shape)\n",
        "print(X_test_ff.shape)"
      ]
    },
    {
      "cell_type": "code",
      "execution_count": 42,
      "metadata": {
        "id": "fyarwXekT3mQ"
      },
      "outputs": [],
      "source": [
        "model3 = tf.keras.Sequential([\n",
        "    Dense(784,input_shape=(784,),activation='relu'),\n",
        "    Dropout(0.2),\n",
        "    Dense(392, activation='relu'),\n",
        "    Dropout(0.2),\n",
        "    Dense(196, activation='relu'),\n",
        "    Dropout(0.2),\n",
        "    Dense(98, activation='relu'),\n",
        "    Dropout(0.2),\n",
        "    Dense(49, activation='relu'),\n",
        "    # Dropout(0.2),\n",
        "    # Dense(24, activation='relu'),\n",
        "    Dense(10,activation='softmax')\n",
        "])"
      ]
    },
    {
      "cell_type": "code",
      "execution_count": 43,
      "metadata": {
        "colab": {
          "base_uri": "https://localhost:8080/"
        },
        "id": "ng2G5C-UT5Gx",
        "outputId": "5092644e-dbd7-4f69-86ba-bccac8c3bd0e"
      },
      "outputs": [
        {
          "output_type": "stream",
          "name": "stdout",
          "text": [
            "Model: \"sequential_2\"\n",
            "_________________________________________________________________\n",
            " Layer (type)                Output Shape              Param #   \n",
            "=================================================================\n",
            " dense_8 (Dense)             (None, 784)               615440    \n",
            "                                                                 \n",
            " dropout_6 (Dropout)         (None, 784)               0         \n",
            "                                                                 \n",
            " dense_9 (Dense)             (None, 392)               307720    \n",
            "                                                                 \n",
            " dropout_7 (Dropout)         (None, 392)               0         \n",
            "                                                                 \n",
            " dense_10 (Dense)            (None, 196)               77028     \n",
            "                                                                 \n",
            " dropout_8 (Dropout)         (None, 196)               0         \n",
            "                                                                 \n",
            " dense_11 (Dense)            (None, 98)                19306     \n",
            "                                                                 \n",
            " dropout_9 (Dropout)         (None, 98)                0         \n",
            "                                                                 \n",
            " dense_12 (Dense)            (None, 49)                4851      \n",
            "                                                                 \n",
            " dense_13 (Dense)            (None, 10)                500       \n",
            "                                                                 \n",
            "=================================================================\n",
            "Total params: 1,024,845\n",
            "Trainable params: 1,024,845\n",
            "Non-trainable params: 0\n",
            "_________________________________________________________________\n"
          ]
        }
      ],
      "source": [
        "model3.summary()\n"
      ]
    },
    {
      "cell_type": "code",
      "execution_count": 44,
      "metadata": {
        "id": "SKZADabrUAmj"
      },
      "outputs": [],
      "source": [
        "from operator import le\n",
        "model3.compile(optimizer=optimizers.Adam(learning_rate=0.001,beta_1=0.8,beta_2=0.99),\n",
        "              loss=tf.keras.losses.sparse_categorical_crossentropy,\n",
        "              metrics=['accuracy'],)"
      ]
    },
    {
      "cell_type": "code",
      "execution_count": 45,
      "metadata": {
        "colab": {
          "base_uri": "https://localhost:8080/"
        },
        "id": "Xm1DlXDSZKnF",
        "outputId": "5362e993-fa93-4dfb-b3bf-69250d735efc"
      },
      "outputs": [
        {
          "output_type": "execute_result",
          "data": {
            "text/plain": [
              "(60000, 784)"
            ]
          },
          "metadata": {},
          "execution_count": 45
        }
      ],
      "source": [
        "X_train_ff.shape"
      ]
    },
    {
      "cell_type": "code",
      "execution_count": 46,
      "metadata": {
        "colab": {
          "base_uri": "https://localhost:8080/"
        },
        "id": "tXsYc3c7gwdr",
        "outputId": "a953fac5-d753-4b61-94a4-e49cd2b6d20b"
      },
      "outputs": [
        {
          "output_type": "execute_result",
          "data": {
            "text/plain": [
              "(10000,)"
            ]
          },
          "metadata": {},
          "execution_count": 46
        }
      ],
      "source": [
        "y_test.shape"
      ]
    },
    {
      "cell_type": "code",
      "execution_count": 47,
      "metadata": {
        "colab": {
          "base_uri": "https://localhost:8080/"
        },
        "id": "HbPPCGb8UIHW",
        "outputId": "7c0336f8-5558-483e-b65a-8124d1d22c09"
      },
      "outputs": [
        {
          "output_type": "stream",
          "name": "stdout",
          "text": [
            "Epoch 1/50\n",
            "844/844 [==============================] - 4s 4ms/step - loss: 0.3255 - accuracy: 0.9029 - val_loss: 0.1165 - val_accuracy: 0.9682\n",
            "Epoch 2/50\n",
            "844/844 [==============================] - 3s 4ms/step - loss: 0.1461 - accuracy: 0.9603 - val_loss: 0.0964 - val_accuracy: 0.9730\n",
            "Epoch 3/50\n",
            "844/844 [==============================] - 3s 3ms/step - loss: 0.1095 - accuracy: 0.9709 - val_loss: 0.0748 - val_accuracy: 0.9782\n",
            "Epoch 4/50\n",
            "844/844 [==============================] - 3s 3ms/step - loss: 0.0876 - accuracy: 0.9759 - val_loss: 0.0899 - val_accuracy: 0.9755\n",
            "Epoch 5/50\n",
            "844/844 [==============================] - 3s 4ms/step - loss: 0.0734 - accuracy: 0.9791 - val_loss: 0.0900 - val_accuracy: 0.9780\n",
            "Epoch 6/50\n",
            "844/844 [==============================] - 3s 3ms/step - loss: 0.0665 - accuracy: 0.9816 - val_loss: 0.0759 - val_accuracy: 0.9805\n",
            "Epoch 7/50\n",
            "844/844 [==============================] - 3s 3ms/step - loss: 0.0583 - accuracy: 0.9839 - val_loss: 0.0746 - val_accuracy: 0.9795\n",
            "Epoch 8/50\n",
            "844/844 [==============================] - 3s 3ms/step - loss: 0.0515 - accuracy: 0.9854 - val_loss: 0.0790 - val_accuracy: 0.9815\n",
            "Epoch 9/50\n",
            "844/844 [==============================] - 3s 4ms/step - loss: 0.0479 - accuracy: 0.9878 - val_loss: 0.0752 - val_accuracy: 0.9818\n",
            "Epoch 10/50\n",
            "844/844 [==============================] - 3s 3ms/step - loss: 0.0438 - accuracy: 0.9886 - val_loss: 0.0696 - val_accuracy: 0.9808\n",
            "Epoch 11/50\n",
            "844/844 [==============================] - 3s 3ms/step - loss: 0.0403 - accuracy: 0.9893 - val_loss: 0.0811 - val_accuracy: 0.9812\n",
            "Epoch 12/50\n",
            "844/844 [==============================] - 3s 4ms/step - loss: 0.0374 - accuracy: 0.9903 - val_loss: 0.0766 - val_accuracy: 0.9835\n",
            "Epoch 13/50\n",
            "844/844 [==============================] - 3s 3ms/step - loss: 0.0371 - accuracy: 0.9906 - val_loss: 0.0718 - val_accuracy: 0.9845\n",
            "Epoch 14/50\n",
            "844/844 [==============================] - 3s 3ms/step - loss: 0.0338 - accuracy: 0.9914 - val_loss: 0.0828 - val_accuracy: 0.9837\n",
            "Epoch 15/50\n",
            "844/844 [==============================] - 3s 4ms/step - loss: 0.0327 - accuracy: 0.9916 - val_loss: 0.0872 - val_accuracy: 0.9842\n",
            "Epoch 16/50\n",
            "844/844 [==============================] - 3s 3ms/step - loss: 0.0296 - accuracy: 0.9926 - val_loss: 0.1010 - val_accuracy: 0.9827\n",
            "Epoch 17/50\n",
            "844/844 [==============================] - 3s 3ms/step - loss: 0.0325 - accuracy: 0.9925 - val_loss: 0.0900 - val_accuracy: 0.9835\n",
            "Epoch 18/50\n",
            "844/844 [==============================] - 3s 3ms/step - loss: 0.0281 - accuracy: 0.9926 - val_loss: 0.0743 - val_accuracy: 0.9852\n",
            "Epoch 19/50\n",
            "844/844 [==============================] - 3s 3ms/step - loss: 0.0294 - accuracy: 0.9934 - val_loss: 0.1003 - val_accuracy: 0.9850\n",
            "Epoch 20/50\n",
            "844/844 [==============================] - 3s 4ms/step - loss: 0.0249 - accuracy: 0.9937 - val_loss: 0.0930 - val_accuracy: 0.9847\n",
            "Epoch 21/50\n",
            "844/844 [==============================] - 3s 3ms/step - loss: 0.0271 - accuracy: 0.9937 - val_loss: 0.1033 - val_accuracy: 0.9843\n",
            "Epoch 22/50\n",
            "844/844 [==============================] - 3s 3ms/step - loss: 0.0292 - accuracy: 0.9937 - val_loss: 0.0790 - val_accuracy: 0.9878\n",
            "Epoch 23/50\n",
            "844/844 [==============================] - 3s 3ms/step - loss: 0.0259 - accuracy: 0.9940 - val_loss: 0.1114 - val_accuracy: 0.9803\n",
            "Epoch 24/50\n",
            "844/844 [==============================] - 3s 3ms/step - loss: 0.0262 - accuracy: 0.9944 - val_loss: 0.1077 - val_accuracy: 0.9857\n",
            "Epoch 25/50\n",
            "844/844 [==============================] - 3s 3ms/step - loss: 0.0250 - accuracy: 0.9946 - val_loss: 0.1339 - val_accuracy: 0.9798\n",
            "Epoch 26/50\n",
            "844/844 [==============================] - 3s 3ms/step - loss: 0.0286 - accuracy: 0.9939 - val_loss: 0.1209 - val_accuracy: 0.9847\n",
            "Epoch 27/50\n",
            "844/844 [==============================] - 3s 3ms/step - loss: 0.0265 - accuracy: 0.9946 - val_loss: 0.1254 - val_accuracy: 0.9848\n",
            "Epoch 28/50\n",
            "844/844 [==============================] - 3s 3ms/step - loss: 0.0280 - accuracy: 0.9946 - val_loss: 0.1222 - val_accuracy: 0.9837\n",
            "Epoch 29/50\n",
            "844/844 [==============================] - 3s 3ms/step - loss: 0.0224 - accuracy: 0.9950 - val_loss: 0.1225 - val_accuracy: 0.9835\n",
            "Epoch 30/50\n",
            "844/844 [==============================] - 3s 3ms/step - loss: 0.0207 - accuracy: 0.9952 - val_loss: 0.1155 - val_accuracy: 0.9843\n",
            "Epoch 31/50\n",
            "844/844 [==============================] - 3s 3ms/step - loss: 0.0219 - accuracy: 0.9956 - val_loss: 0.1388 - val_accuracy: 0.9827\n",
            "Epoch 32/50\n",
            "844/844 [==============================] - 3s 3ms/step - loss: 0.0249 - accuracy: 0.9949 - val_loss: 0.1408 - val_accuracy: 0.9847\n",
            "Epoch 33/50\n",
            "844/844 [==============================] - 3s 3ms/step - loss: 0.0241 - accuracy: 0.9951 - val_loss: 0.1584 - val_accuracy: 0.9808\n",
            "Epoch 34/50\n",
            "844/844 [==============================] - 3s 3ms/step - loss: 0.0245 - accuracy: 0.9957 - val_loss: 0.1323 - val_accuracy: 0.9840\n",
            "Epoch 35/50\n",
            "844/844 [==============================] - 3s 3ms/step - loss: 0.0225 - accuracy: 0.9953 - val_loss: 0.1401 - val_accuracy: 0.9823\n",
            "Epoch 36/50\n",
            "844/844 [==============================] - 3s 3ms/step - loss: 0.0226 - accuracy: 0.9958 - val_loss: 0.1311 - val_accuracy: 0.9815\n",
            "Epoch 37/50\n",
            "844/844 [==============================] - 3s 3ms/step - loss: 0.0221 - accuracy: 0.9958 - val_loss: 0.1431 - val_accuracy: 0.9848\n",
            "Epoch 38/50\n",
            "844/844 [==============================] - 3s 4ms/step - loss: 0.0232 - accuracy: 0.9957 - val_loss: 0.1771 - val_accuracy: 0.9822\n",
            "Epoch 39/50\n",
            "844/844 [==============================] - 3s 3ms/step - loss: 0.0200 - accuracy: 0.9958 - val_loss: 0.1539 - val_accuracy: 0.9835\n",
            "Epoch 40/50\n",
            "844/844 [==============================] - 3s 3ms/step - loss: 0.0222 - accuracy: 0.9959 - val_loss: 0.1566 - val_accuracy: 0.9847\n",
            "Epoch 41/50\n",
            "844/844 [==============================] - 3s 3ms/step - loss: 0.0249 - accuracy: 0.9958 - val_loss: 0.1490 - val_accuracy: 0.9867\n",
            "Epoch 42/50\n",
            "844/844 [==============================] - 3s 4ms/step - loss: 0.0266 - accuracy: 0.9953 - val_loss: 0.1644 - val_accuracy: 0.9848\n",
            "Epoch 43/50\n",
            "844/844 [==============================] - 3s 4ms/step - loss: 0.0236 - accuracy: 0.9960 - val_loss: 0.1566 - val_accuracy: 0.9857\n",
            "Epoch 44/50\n",
            "844/844 [==============================] - 3s 4ms/step - loss: 0.0272 - accuracy: 0.9957 - val_loss: 0.1340 - val_accuracy: 0.9878\n",
            "Epoch 45/50\n",
            "844/844 [==============================] - 3s 4ms/step - loss: 0.0243 - accuracy: 0.9961 - val_loss: 0.1561 - val_accuracy: 0.9850\n",
            "Epoch 46/50\n",
            "844/844 [==============================] - 3s 4ms/step - loss: 0.0251 - accuracy: 0.9960 - val_loss: 0.1771 - val_accuracy: 0.9848\n",
            "Epoch 47/50\n",
            "844/844 [==============================] - 3s 3ms/step - loss: 0.0264 - accuracy: 0.9957 - val_loss: 0.1476 - val_accuracy: 0.9857\n",
            "Epoch 48/50\n",
            "844/844 [==============================] - 3s 4ms/step - loss: 0.0260 - accuracy: 0.9964 - val_loss: 0.1699 - val_accuracy: 0.9873\n",
            "Epoch 49/50\n",
            "844/844 [==============================] - 3s 4ms/step - loss: 0.0217 - accuracy: 0.9962 - val_loss: 0.1613 - val_accuracy: 0.9853\n",
            "Epoch 50/50\n",
            "844/844 [==============================] - 3s 3ms/step - loss: 0.0289 - accuracy: 0.9957 - val_loss: 0.1877 - val_accuracy: 0.9837\n"
          ]
        }
      ],
      "source": [
        "history3 = model3.fit(X_train_ff, y_train, epochs=50, \n",
        "                    validation_data=(X_test_ff, y_test), \n",
        "                   batch_size=64,validation_split=0.1 )"
      ]
    },
    {
      "cell_type": "code",
      "source": [
        "acc = history3.history['accuracy']\n",
        "val_acc = history3.history['val_accuracy']\n",
        "loss = history3.history['loss']\n",
        "val_loss = history3.history['val_loss']\n",
        "\n",
        "epochs = range(len(acc))\n",
        "\n",
        "plt.plot(epochs, acc, 'r', label='Training accuracy')\n",
        "plt.plot(epochs, val_acc, 'b', label='Validation accuracy')\n",
        "plt.title('Training and validation accuracy')\n",
        "\n",
        "plt.figure()\n",
        "\n",
        "plt.plot(epochs, loss, 'r', label='Training Loss')\n",
        "plt.plot(epochs, val_loss, 'b', label='Validation Loss')\n",
        "plt.title('Training and validation loss')\n",
        "plt.legend()\n",
        "\n",
        "plt.show()"
      ],
      "metadata": {
        "id": "_xmUkSVNDtW4",
        "colab": {
          "base_uri": "https://localhost:8080/",
          "height": 545
        },
        "outputId": "64a0363f-0244-479e-b262-15d98a2fa86d"
      },
      "execution_count": 48,
      "outputs": [
        {
          "output_type": "display_data",
          "data": {
            "text/plain": [
              "<Figure size 432x288 with 1 Axes>"
            ],
            "image/png": "[encoded data removed]"
          },
          "metadata": {
            "needs_background": "light"
          }
        },
        {
          "output_type": "display_data",
          "data": {
            "text/plain": [
              "<Figure size 432x288 with 1 Axes>"
            ],
            "image/png": "[encoded data removed]"
          },
          "metadata": {
            "needs_background": "light"
          }
        }
      ]
    },
    {
      "cell_type": "code",
      "execution_count": 49,
      "metadata": {
        "colab": {
          "base_uri": "https://localhost:8080/",
          "height": 282
        },
        "id": "Kk1PK_00shuQ",
        "outputId": "0ec8bbd4-c55e-4687-9889-e55f1d57e5af"
      },
      "outputs": [
        {
          "output_type": "stream",
          "name": "stdout",
          "text": [
            "Original label is 1 and predicted label is 1\n"
          ]
        },
        {
          "output_type": "display_data",
          "data": {
            "text/plain": [
              "<Figure size 432x288 with 1 Axes>"
            ],
            "image/png": "[encoded data removed]"
          },
          "metadata": {
            "needs_background": "light"
          }
        }
      ],
      "source": [
        "# label mapping\n",
        "\n",
        "labels = list(sorted(pd.unique(y_train)))\n",
        "\n",
        "# select the image from our test dataset\n",
        "image_number = 5\n",
        "\n",
        "plt.imshow(Xs_mnist[image_number].reshape((28,28)))\n",
        "n = np.array(Xs_mnist[image_number].reshape((28,28)))\n",
        "p = n.reshape(1,np.prod(Xs_mnist.shape[1:]))\n",
        "predicted_label = labels[model3.predict(p).argmax()]\n",
        "original_label = labels[ys_mnist[image_number]]\n",
        "\n",
        "print(\"Original label is {} and predicted label is {}\".format(\n",
        "\toriginal_label, predicted_label))"
      ]
    },
    {
      "cell_type": "markdown",
      "metadata": {
        "id": "hZBFzqzQlKzJ"
      },
      "source": [
        "### `CNN`"
      ]
    },
    {
      "cell_type": "code",
      "execution_count": 50,
      "metadata": {
        "id": "J-W-9oCnZ7QP"
      },
      "outputs": [],
      "source": [
        "model4 = tf.keras.Sequential([\n",
        "    Input(shape=(28,28,1)),\n",
        "    Conv2D(28, (3, 3), activation='relu', padding='same'),\n",
        "    BatchNormalization(),\n",
        "    Conv2D(28, (3, 3), activation='relu', padding='same'),\n",
        "    BatchNormalization(),\n",
        "    MaxPooling2D((2, 2)),\n",
        "\n",
        "\n",
        "    Conv2D(64, (3, 3), activation='relu', padding='same'),\n",
        "    BatchNormalization(),\n",
        "    Conv2D(64, (3, 3), activation='relu', padding='same'),\n",
        "    BatchNormalization(),\n",
        "    MaxPooling2D((2, 2)),\n",
        "\n",
        "    \n",
        "    # Conv2D(128, (3, 3), activation='relu', padding='same'),\n",
        "    # BatchNormalization(),\n",
        "    # Conv2D(128, (3, 3), activation='relu', padding='same'),\n",
        "    # BatchNormalization(),\n",
        "    # MaxPooling2D((2, 2)),\n",
        "    \n",
        "    Flatten(),\n",
        "    Dropout(0.2),\n",
        "    \n",
        "    # Hidden layer\n",
        "    Dense(250, activation='relu'),\n",
        "    Dropout(0.2),\n",
        "    \n",
        "    # last hidden layer i.e.. output layer\n",
        "    Dense(10, activation='softmax')])"
      ]
    },
    {
      "cell_type": "code",
      "execution_count": 51,
      "metadata": {
        "colab": {
          "base_uri": "https://localhost:8080/"
        },
        "id": "DoAWJLkMZ7O4",
        "outputId": "9ea0de76-9083-4913-b160-1c9588dd3d21"
      },
      "outputs": [
        {
          "output_type": "stream",
          "name": "stdout",
          "text": [
            "Model: \"sequential_3\"\n",
            "_________________________________________________________________\n",
            " Layer (type)                Output Shape              Param #   \n",
            "=================================================================\n",
            " conv2d_6 (Conv2D)           (None, 28, 28, 28)        280       \n",
            "                                                                 \n",
            " batch_normalization_6 (Batc  (None, 28, 28, 28)       112       \n",
            " hNormalization)                                                 \n",
            "                                                                 \n",
            " conv2d_7 (Conv2D)           (None, 28, 28, 28)        7084      \n",
            "                                                                 \n",
            " batch_normalization_7 (Batc  (None, 28, 28, 28)       112       \n",
            " hNormalization)                                                 \n",
            "                                                                 \n",
            " max_pooling2d_3 (MaxPooling  (None, 14, 14, 28)       0         \n",
            " 2D)                                                             \n",
            "                                                                 \n",
            " conv2d_8 (Conv2D)           (None, 14, 14, 64)        16192     \n",
            "                                                                 \n",
            " batch_normalization_8 (Batc  (None, 14, 14, 64)       256       \n",
            " hNormalization)                                                 \n",
            "                                                                 \n",
            " conv2d_9 (Conv2D)           (None, 14, 14, 64)        36928     \n",
            "                                                                 \n",
            " batch_normalization_9 (Batc  (None, 14, 14, 64)       256       \n",
            " hNormalization)                                                 \n",
            "                                                                 \n",
            " max_pooling2d_4 (MaxPooling  (None, 7, 7, 64)         0         \n",
            " 2D)                                                             \n",
            "                                                                 \n",
            " flatten_1 (Flatten)         (None, 3136)              0         \n",
            "                                                                 \n",
            " dropout_10 (Dropout)        (None, 3136)              0         \n",
            "                                                                 \n",
            " dense_14 (Dense)            (None, 250)               784250    \n",
            "                                                                 \n",
            " dropout_11 (Dropout)        (None, 250)               0         \n",
            "                                                                 \n",
            " dense_15 (Dense)            (None, 10)                2510      \n",
            "                                                                 \n",
            "=================================================================\n",
            "Total params: 847,980\n",
            "Trainable params: 847,612\n",
            "Non-trainable params: 368\n",
            "_________________________________________________________________\n"
          ]
        }
      ],
      "source": [
        "model4.summary()"
      ]
    },
    {
      "cell_type": "code",
      "execution_count": 52,
      "metadata": {
        "colab": {
          "base_uri": "https://localhost:8080/"
        },
        "id": "nZfkMT6YbKXz",
        "outputId": "c0997449-5205-424d-aaca-ebf04013626b"
      },
      "outputs": [
        {
          "output_type": "execute_result",
          "data": {
            "text/plain": [
              "(10000, 28, 28, 1)"
            ]
          },
          "metadata": {},
          "execution_count": 52
        }
      ],
      "source": [
        "X_test.shape"
      ]
    },
    {
      "cell_type": "code",
      "execution_count": 53,
      "metadata": {
        "id": "bCxv_L4lbZja"
      },
      "outputs": [],
      "source": [
        "\n",
        "# Compile\n",
        "model4.compile(optimizer='adam',\n",
        "              loss='sparse_categorical_crossentropy',\n",
        "              metrics=['accuracy'])"
      ]
    },
    {
      "cell_type": "code",
      "execution_count": 54,
      "metadata": {
        "id": "0Y8c9JYVbZjd",
        "colab": {
          "base_uri": "https://localhost:8080/"
        },
        "outputId": "2d2d65c4-0d09-4c3f-a8d7-856dcc3a17cb"
      },
      "outputs": [
        {
          "output_type": "stream",
          "name": "stdout",
          "text": [
            "Epoch 1/50\n",
            "1875/1875 [==============================] - 10s 5ms/step - loss: 0.1354 - accuracy: 0.9617 - val_loss: 0.0960 - val_accuracy: 0.9743\n",
            "Epoch 2/50\n",
            "1875/1875 [==============================] - 9s 5ms/step - loss: 0.0621 - accuracy: 0.9822 - val_loss: 0.0324 - val_accuracy: 0.9900\n",
            "Epoch 3/50\n",
            "1875/1875 [==============================] - 9s 5ms/step - loss: 0.0519 - accuracy: 0.9860 - val_loss: 0.0238 - val_accuracy: 0.9928\n",
            "Epoch 4/50\n",
            "1875/1875 [==============================] - 9s 5ms/step - loss: 0.0392 - accuracy: 0.9893 - val_loss: 0.0365 - val_accuracy: 0.9900\n",
            "Epoch 5/50\n",
            "1875/1875 [==============================] - 9s 5ms/step - loss: 0.0345 - accuracy: 0.9904 - val_loss: 0.0366 - val_accuracy: 0.9901\n",
            "Epoch 6/50\n",
            "1875/1875 [==============================] - 9s 5ms/step - loss: 0.0299 - accuracy: 0.9914 - val_loss: 0.0351 - val_accuracy: 0.9904\n",
            "Epoch 7/50\n",
            "1875/1875 [==============================] - 9s 5ms/step - loss: 0.0265 - accuracy: 0.9921 - val_loss: 0.0268 - val_accuracy: 0.9924\n",
            "Epoch 8/50\n",
            "1875/1875 [==============================] - 9s 5ms/step - loss: 0.0224 - accuracy: 0.9935 - val_loss: 0.0349 - val_accuracy: 0.9919\n",
            "Epoch 9/50\n",
            "1875/1875 [==============================] - 9s 5ms/step - loss: 0.0225 - accuracy: 0.9936 - val_loss: 0.0245 - val_accuracy: 0.9940\n",
            "Epoch 10/50\n",
            "1875/1875 [==============================] - 9s 5ms/step - loss: 0.0172 - accuracy: 0.9952 - val_loss: 0.0399 - val_accuracy: 0.9901\n",
            "Epoch 11/50\n",
            "1875/1875 [==============================] - 9s 5ms/step - loss: 0.0180 - accuracy: 0.9949 - val_loss: 0.0195 - val_accuracy: 0.9947\n",
            "Epoch 12/50\n",
            "1875/1875 [==============================] - 9s 5ms/step - loss: 0.0152 - accuracy: 0.9960 - val_loss: 0.0227 - val_accuracy: 0.9945\n",
            "Epoch 13/50\n",
            "1875/1875 [==============================] - 9s 5ms/step - loss: 0.0135 - accuracy: 0.9958 - val_loss: 0.0323 - val_accuracy: 0.9916\n",
            "Epoch 14/50\n",
            "1875/1875 [==============================] - 9s 5ms/step - loss: 0.0120 - accuracy: 0.9963 - val_loss: 0.0281 - val_accuracy: 0.9937\n",
            "Epoch 15/50\n",
            "1875/1875 [==============================] - 9s 5ms/step - loss: 0.0115 - accuracy: 0.9965 - val_loss: 0.0239 - val_accuracy: 0.9941\n",
            "Epoch 16/50\n",
            "1875/1875 [==============================] - 9s 5ms/step - loss: 0.0118 - accuracy: 0.9968 - val_loss: 0.0353 - val_accuracy: 0.9930\n",
            "Epoch 17/50\n",
            "1875/1875 [==============================] - 9s 5ms/step - loss: 0.0098 - accuracy: 0.9974 - val_loss: 0.0241 - val_accuracy: 0.9948\n",
            "Epoch 18/50\n",
            "1875/1875 [==============================] - 9s 5ms/step - loss: 0.0088 - accuracy: 0.9972 - val_loss: 0.0312 - val_accuracy: 0.9925\n",
            "Epoch 19/50\n",
            "1875/1875 [==============================] - 9s 5ms/step - loss: 0.0092 - accuracy: 0.9974 - val_loss: 0.0259 - val_accuracy: 0.9941\n",
            "Epoch 20/50\n",
            "1875/1875 [==============================] - 9s 5ms/step - loss: 0.0089 - accuracy: 0.9974 - val_loss: 0.0234 - val_accuracy: 0.9941\n",
            "Epoch 21/50\n",
            "1875/1875 [==============================] - 9s 5ms/step - loss: 0.0073 - accuracy: 0.9977 - val_loss: 0.0209 - val_accuracy: 0.9954\n",
            "Epoch 22/50\n",
            "1875/1875 [==============================] - 9s 5ms/step - loss: 0.0067 - accuracy: 0.9979 - val_loss: 0.0229 - val_accuracy: 0.9946\n",
            "Epoch 23/50\n",
            "1875/1875 [==============================] - 9s 5ms/step - loss: 0.0065 - accuracy: 0.9980 - val_loss: 0.0226 - val_accuracy: 0.9954\n",
            "Epoch 24/50\n",
            "1875/1875 [==============================] - 9s 5ms/step - loss: 0.0069 - accuracy: 0.9980 - val_loss: 0.0262 - val_accuracy: 0.9949\n",
            "Epoch 25/50\n",
            "1875/1875 [==============================] - 9s 5ms/step - loss: 0.0069 - accuracy: 0.9979 - val_loss: 0.0296 - val_accuracy: 0.9937\n",
            "Epoch 26/50\n",
            "1875/1875 [==============================] - 9s 5ms/step - loss: 0.0055 - accuracy: 0.9982 - val_loss: 0.0299 - val_accuracy: 0.9944\n",
            "Epoch 27/50\n",
            "1875/1875 [==============================] - 9s 5ms/step - loss: 0.0056 - accuracy: 0.9982 - val_loss: 0.0298 - val_accuracy: 0.9938\n",
            "Epoch 28/50\n",
            "1875/1875 [==============================] - 9s 5ms/step - loss: 0.0059 - accuracy: 0.9983 - val_loss: 0.0308 - val_accuracy: 0.9946\n",
            "Epoch 29/50\n",
            "1875/1875 [==============================] - 9s 5ms/step - loss: 0.0044 - accuracy: 0.9987 - val_loss: 0.0319 - val_accuracy: 0.9950\n",
            "Epoch 30/50\n",
            "1875/1875 [==============================] - 9s 5ms/step - loss: 0.0057 - accuracy: 0.9984 - val_loss: 0.0262 - val_accuracy: 0.9957\n",
            "Epoch 31/50\n",
            "1875/1875 [==============================] - 9s 5ms/step - loss: 0.0065 - accuracy: 0.9982 - val_loss: 0.0287 - val_accuracy: 0.9941\n",
            "Epoch 32/50\n",
            "1875/1875 [==============================] - 9s 5ms/step - loss: 0.0040 - accuracy: 0.9989 - val_loss: 0.0236 - val_accuracy: 0.9949\n",
            "Epoch 33/50\n",
            "1875/1875 [==============================] - 9s 5ms/step - loss: 0.0056 - accuracy: 0.9983 - val_loss: 0.0346 - val_accuracy: 0.9934\n",
            "Epoch 34/50\n",
            "1875/1875 [==============================] - 9s 5ms/step - loss: 0.0046 - accuracy: 0.9987 - val_loss: 0.0294 - val_accuracy: 0.9946\n",
            "Epoch 35/50\n",
            "1875/1875 [==============================] - 9s 5ms/step - loss: 0.0060 - accuracy: 0.9987 - val_loss: 0.0356 - val_accuracy: 0.9936\n",
            "Epoch 36/50\n",
            "1875/1875 [==============================] - 9s 5ms/step - loss: 0.0055 - accuracy: 0.9985 - val_loss: 0.0306 - val_accuracy: 0.9950\n",
            "Epoch 37/50\n",
            "1875/1875 [==============================] - 9s 5ms/step - loss: 0.0044 - accuracy: 0.9986 - val_loss: 0.0349 - val_accuracy: 0.9949\n",
            "Epoch 38/50\n",
            "1875/1875 [==============================] - 9s 5ms/step - loss: 0.0035 - accuracy: 0.9991 - val_loss: 0.0321 - val_accuracy: 0.9949\n",
            "Epoch 39/50\n",
            "1875/1875 [==============================] - 9s 5ms/step - loss: 0.0049 - accuracy: 0.9986 - val_loss: 0.0317 - val_accuracy: 0.9942\n",
            "Epoch 40/50\n",
            "1875/1875 [==============================] - 9s 5ms/step - loss: 0.0039 - accuracy: 0.9988 - val_loss: 0.0335 - val_accuracy: 0.9952\n",
            "Epoch 41/50\n",
            "1875/1875 [==============================] - 9s 5ms/step - loss: 0.0042 - accuracy: 0.9988 - val_loss: 0.0317 - val_accuracy: 0.9957\n",
            "Epoch 42/50\n",
            "1875/1875 [==============================] - 9s 5ms/step - loss: 0.0047 - accuracy: 0.9987 - val_loss: 0.0317 - val_accuracy: 0.9953\n",
            "Epoch 43/50\n",
            "1875/1875 [==============================] - 9s 5ms/step - loss: 0.0044 - accuracy: 0.9988 - val_loss: 0.0387 - val_accuracy: 0.9943\n",
            "Epoch 44/50\n",
            "1875/1875 [==============================] - 9s 5ms/step - loss: 0.0047 - accuracy: 0.9988 - val_loss: 0.0429 - val_accuracy: 0.9947\n",
            "Epoch 45/50\n",
            "1875/1875 [==============================] - 9s 5ms/step - loss: 0.0050 - accuracy: 0.9986 - val_loss: 0.0374 - val_accuracy: 0.9944\n",
            "Epoch 46/50\n",
            "1875/1875 [==============================] - 9s 5ms/step - loss: 0.0028 - accuracy: 0.9993 - val_loss: 0.0353 - val_accuracy: 0.9945\n",
            "Epoch 47/50\n",
            "1875/1875 [==============================] - 9s 5ms/step - loss: 0.0044 - accuracy: 0.9990 - val_loss: 0.0342 - val_accuracy: 0.9954\n",
            "Epoch 48/50\n",
            "1875/1875 [==============================] - 10s 5ms/step - loss: 0.0040 - accuracy: 0.9990 - val_loss: 0.0313 - val_accuracy: 0.9952\n",
            "Epoch 49/50\n",
            "1875/1875 [==============================] - 9s 5ms/step - loss: 0.0041 - accuracy: 0.9990 - val_loss: 0.0417 - val_accuracy: 0.9937\n",
            "Epoch 50/50\n",
            "1875/1875 [==============================] - 9s 5ms/step - loss: 0.0041 - accuracy: 0.9988 - val_loss: 0.0431 - val_accuracy: 0.9943\n"
          ]
        }
      ],
      "source": [
        "history4 = model4.fit(X_train, y_train, epochs=50, \n",
        "                    validation_data=(X_test, y_test), \n",
        "                    )"
      ]
    },
    {
      "cell_type": "code",
      "execution_count": 55,
      "metadata": {
        "id": "YmGCU8qObfYR",
        "colab": {
          "base_uri": "https://localhost:8080/",
          "height": 282
        },
        "outputId": "fcb9465e-3fb3-4a0f-a920-ff87fcf53178"
      },
      "outputs": [
        {
          "output_type": "stream",
          "name": "stdout",
          "text": [
            "Original label is 4 and predicted label is 4\n"
          ]
        },
        {
          "output_type": "display_data",
          "data": {
            "text/plain": [
              "<Figure size 432x288 with 1 Axes>"
            ],
            "image/png": "[encoded data removed]"
          },
          "metadata": {
            "needs_background": "light"
          }
        }
      ],
      "source": [
        "\n",
        "labels = list(sorted(pd.unique(y_train)))\n",
        "image_number = 4\n",
        "plt.imshow(Xs_mnist[image_number].reshape((28,28)))\n",
        "n = np.array(Xs_mnist[image_number].reshape((28,28)))\n",
        "p = n.reshape(1, 28, 28, 1)\n",
        "predicted_label = labels[model4.predict(p).argmax()]\n",
        "original_label = labels[ys_mnist[image_number]]\n",
        "print(\"Original label is {} and predicted label is {}\".format(\n",
        "\toriginal_label, predicted_label))"
      ]
    },
    {
      "cell_type": "code",
      "source": [
        "import matplotlib.pyplot as plt\n",
        "acc = history4.history['accuracy']\n",
        "val_acc = history4.history['val_accuracy']\n",
        "loss = history4.history['loss']\n",
        "val_loss = history4.history['val_loss']\n",
        "\n",
        "epochs = range(len(acc))\n",
        "\n",
        "plt.plot(epochs, acc, 'r', label='Training accuracy')\n",
        "plt.plot(epochs, val_acc, 'b', label='Validation accuracy')\n",
        "plt.title('Training and validation accuracy')\n",
        "\n",
        "plt.figure()\n",
        "\n",
        "plt.plot(epochs, loss, 'r', label='Training Loss')\n",
        "plt.plot(epochs, val_loss, 'b', label='Validation Loss')\n",
        "plt.title('Training and validation loss')\n",
        "plt.legend()\n",
        "\n",
        "plt.show()"
      ],
      "metadata": {
        "colab": {
          "base_uri": "https://localhost:8080/",
          "height": 545
        },
        "id": "iSC2fvpiGSpB",
        "outputId": "44b1516a-7bae-462e-ee50-df2d58953c9c"
      },
      "execution_count": 56,
      "outputs": [
        {
          "output_type": "display_data",
          "data": {
            "text/plain": [
              "<Figure size 432x288 with 1 Axes>"
            ],
            "image/png": "[encoded data removed]"
          },
          "metadata": {
            "needs_background": "light"
          }
        },
        {
          "output_type": "display_data",
          "data": {
            "text/plain": [
              "<Figure size 432x288 with 1 Axes>"
            ],
            "image/png": "[encoded data removed]"
          },
          "metadata": {
            "needs_background": "light"
          }
        }
      ]
    },
    {
      "cell_type": "code",
      "source": [
        ""
      ],
      "metadata": {
        "id": "ZxpjnsxLrBlf"
      },
      "execution_count": 56,
      "outputs": []
    }
  ],
  "metadata": {
    "accelerator": "GPU",
    "colab": {
      "collapsed_sections": [],
      "name": "lab2_2_Mohamed_abohassan.ipynb",
      "provenance": []
    },
    "kernelspec": {
      "display_name": "Python 3",
      "name": "python3"
    },
    "language_info": {
      "name": "python"
    }
  },
  "nbformat": 4,
  "nbformat_minor": 0
}